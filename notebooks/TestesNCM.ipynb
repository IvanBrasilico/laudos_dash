{
 "cells": [
  {
   "cell_type": "markdown",
   "metadata": {},
   "source": [
    "# Testes com extração NCM.xls\n",
    "Extração realizada no DW, consulta Dashboard Laudos NCM\n",
    "DashBoard Laudos - Estatistica NCM\n",
    "\n",
    "{ANO REGIS}=2016:2016, 2017:2017, 2018:2018 E {PESO LIQ MERC IMP} >= 100000\n"
   ]
  },
  {
   "cell_type": "code",
   "execution_count": 19,
   "metadata": {},
   "outputs": [
    {
     "name": "stdout",
     "output_type": "stream",
     "text": [
      "NCM.xlsx\n",
      "valor7.xlsx\n",
      "valor12.xlsx\n"
     ]
    }
   ],
   "source": [
    "import os\n",
    "import pandas as pd\n",
    "import matplotlib.pyplot as plt\n",
    "caminho = os.path.join('..', 'app', 'datasources')\n",
    "for name in os.listdir(caminho):\n",
    "    if 'xls' in name: print(name)"
   ]
  },
  {
   "cell_type": "code",
   "execution_count": 44,
   "metadata": {},
   "outputs": [
    {
     "name": "stderr",
     "output_type": "stream",
     "text": [
      "/home/ivan/anaconda3/lib/python3.6/site-packages/numpy/core/_methods.py:29: RuntimeWarning: invalid value encountered in reduce\n",
      "  return umr_minimum(a, axis, None, out, keepdims)\n"
     ]
    }
   ],
   "source": [
    "df_ncm = pd.read_excel(os.path.join(caminho, 'NCM.xlsx'), header=4)\n",
    "df_ncm['PESO LIQ MERC IMP POR'] = df_ncm['PESO LIQ MERC IMP'] / df_ncm['PESO LIQ MERC IMP'].sum() # Converter para porcentagem\n",
    "df_ncm['COD PAIS ORIG DEST'] = pd.to_numeric(df_ncm['COD PAIS ORIG DEST'], errors='coerce', downcast='unsigned')\n",
    "pd.set_option('display.float_format', lambda x: '%.2f' % x)"
   ]
  },
  {
   "cell_type": "code",
   "execution_count": 23,
   "metadata": {},
   "outputs": [
    {
     "data": {
      "text/html": [
       "<div>\n",
       "<style scoped>\n",
       "    .dataframe tbody tr th:only-of-type {\n",
       "        vertical-align: middle;\n",
       "    }\n",
       "\n",
       "    .dataframe tbody tr th {\n",
       "        vertical-align: top;\n",
       "    }\n",
       "\n",
       "    .dataframe thead th {\n",
       "        text-align: right;\n",
       "    }\n",
       "</style>\n",
       "<table border=\"1\" class=\"dataframe\">\n",
       "  <thead>\n",
       "    <tr style=\"text-align: right;\">\n",
       "      <th></th>\n",
       "      <th>COD PAIS ORIG DEST</th>\n",
       "      <th>PAIS ORIGEM DESTINO</th>\n",
       "      <th>COD CAPIT NCM</th>\n",
       "      <th>CAPITULO NCM</th>\n",
       "      <th>MES REGIS</th>\n",
       "      <th>Métrica</th>\n",
       "      <th>PESO LIQ MERC IMP</th>\n",
       "    </tr>\n",
       "  </thead>\n",
       "  <tbody>\n",
       "    <tr>\n",
       "      <th>0</th>\n",
       "      <td>17.00</td>\n",
       "      <td>Albânia</td>\n",
       "      <td>72</td>\n",
       "      <td>Ferro fundido, ferro e aço</td>\n",
       "      <td>Nov 2016</td>\n",
       "      <td>nan</td>\n",
       "      <td>0.00</td>\n",
       "    </tr>\n",
       "    <tr>\n",
       "      <th>1</th>\n",
       "      <td>17.00</td>\n",
       "      <td>Albânia</td>\n",
       "      <td>72</td>\n",
       "      <td>Ferro fundido, ferro e aço</td>\n",
       "      <td>Dez 2016</td>\n",
       "      <td>nan</td>\n",
       "      <td>0.00</td>\n",
       "    </tr>\n",
       "    <tr>\n",
       "      <th>2</th>\n",
       "      <td>17.00</td>\n",
       "      <td>Albânia</td>\n",
       "      <td>76</td>\n",
       "      <td>Alumínio e suas obras</td>\n",
       "      <td>Out 2017</td>\n",
       "      <td>nan</td>\n",
       "      <td>0.00</td>\n",
       "    </tr>\n",
       "    <tr>\n",
       "      <th>3</th>\n",
       "      <td>23.00</td>\n",
       "      <td>Alemanha</td>\n",
       "      <td>3</td>\n",
       "      <td>Peixes e crustáceos, moluscos e outros inverte...</td>\n",
       "      <td>Out 2016</td>\n",
       "      <td>nan</td>\n",
       "      <td>0.00</td>\n",
       "    </tr>\n",
       "    <tr>\n",
       "      <th>4</th>\n",
       "      <td>23.00</td>\n",
       "      <td>Alemanha</td>\n",
       "      <td>5</td>\n",
       "      <td>Outros produtos de origem animal, não especifi...</td>\n",
       "      <td>Jan 2016</td>\n",
       "      <td>nan</td>\n",
       "      <td>0.00</td>\n",
       "    </tr>\n",
       "  </tbody>\n",
       "</table>\n",
       "</div>"
      ],
      "text/plain": [
       "   COD PAIS ORIG DEST PAIS ORIGEM DESTINO  COD CAPIT NCM  \\\n",
       "0               17.00             Albânia             72   \n",
       "1               17.00             Albânia             72   \n",
       "2               17.00             Albânia             76   \n",
       "3               23.00            Alemanha              3   \n",
       "4               23.00            Alemanha              5   \n",
       "\n",
       "                                        CAPITULO NCM MES REGIS  Métrica  \\\n",
       "0                         Ferro fundido, ferro e aço  Nov 2016      nan   \n",
       "1                         Ferro fundido, ferro e aço  Dez 2016      nan   \n",
       "2                              Alumínio e suas obras  Out 2017      nan   \n",
       "3  Peixes e crustáceos, moluscos e outros inverte...  Out 2016      nan   \n",
       "4  Outros produtos de origem animal, não especifi...  Jan 2016      nan   \n",
       "\n",
       "   PESO LIQ MERC IMP  \n",
       "0               0.00  \n",
       "1               0.00  \n",
       "2               0.00  \n",
       "3               0.00  \n",
       "4               0.00  "
      ]
     },
     "execution_count": 23,
     "metadata": {},
     "output_type": "execute_result"
    }
   ],
   "source": [
    "df_ncm.head()"
   ]
  },
  {
   "cell_type": "code",
   "execution_count": 45,
   "metadata": {},
   "outputs": [],
   "source": [
    "df_pesopais = df_ncm.groupby(\n",
    "            ['COD PAIS ORIG DEST', 'PAIS ORIGEM DESTINO'], as_index=False\n",
    "        )['PESO LIQ MERC IMP POR'].sum()\n",
    "df_pesopais.columns = ['codpais', 'PaisOrigem', 'pesototal']\n"
   ]
  },
  {
   "cell_type": "code",
   "execution_count": 46,
   "metadata": {},
   "outputs": [
    {
     "data": {
      "text/html": [
       "<div>\n",
       "<style scoped>\n",
       "    .dataframe tbody tr th:only-of-type {\n",
       "        vertical-align: middle;\n",
       "    }\n",
       "\n",
       "    .dataframe tbody tr th {\n",
       "        vertical-align: top;\n",
       "    }\n",
       "\n",
       "    .dataframe thead th {\n",
       "        text-align: right;\n",
       "    }\n",
       "</style>\n",
       "<table border=\"1\" class=\"dataframe\">\n",
       "  <thead>\n",
       "    <tr style=\"text-align: right;\">\n",
       "      <th></th>\n",
       "      <th>codpais</th>\n",
       "      <th>PaisOrigem</th>\n",
       "      <th>pesototal</th>\n",
       "    </tr>\n",
       "  </thead>\n",
       "  <tbody>\n",
       "    <tr>\n",
       "      <th>0</th>\n",
       "      <td>17.00</td>\n",
       "      <td>Albânia</td>\n",
       "      <td>0.00</td>\n",
       "    </tr>\n",
       "    <tr>\n",
       "      <th>1</th>\n",
       "      <td>23.00</td>\n",
       "      <td>Alemanha</td>\n",
       "      <td>0.02</td>\n",
       "    </tr>\n",
       "    <tr>\n",
       "      <th>2</th>\n",
       "      <td>40.00</td>\n",
       "      <td>Angola</td>\n",
       "      <td>0.00</td>\n",
       "    </tr>\n",
       "    <tr>\n",
       "      <th>3</th>\n",
       "      <td>47.00</td>\n",
       "      <td>Antilhas Holandesas</td>\n",
       "      <td>0.00</td>\n",
       "    </tr>\n",
       "    <tr>\n",
       "      <th>4</th>\n",
       "      <td>53.00</td>\n",
       "      <td>Arábia Saudita</td>\n",
       "      <td>0.03</td>\n",
       "    </tr>\n",
       "  </tbody>\n",
       "</table>\n",
       "</div>"
      ],
      "text/plain": [
       "   codpais           PaisOrigem  pesototal\n",
       "0    17.00              Albânia       0.00\n",
       "1    23.00             Alemanha       0.02\n",
       "2    40.00               Angola       0.00\n",
       "3    47.00  Antilhas Holandesas       0.00\n",
       "4    53.00       Arábia Saudita       0.03"
      ]
     },
     "execution_count": 46,
     "metadata": {},
     "output_type": "execute_result"
    }
   ],
   "source": [
    "df_pesopais.head()"
   ]
  },
  {
   "cell_type": "code",
   "execution_count": 47,
   "metadata": {},
   "outputs": [
    {
     "data": {
      "image/png": "[encoded data removed]",
      "text/plain": [
       "<matplotlib.figure.Figure at 0x7f6ad0119128>"
      ]
     },
     "metadata": {},
     "output_type": "display_data"
    }
   ],
   "source": [
    "%matplotlib inline\n",
    "plt.figure(figsize=(20,5))\n",
    "df_pesopais = df_pesopais.sort_values(by='pesototal', ascending=False)\n",
    "x = df_pesopais['pesototal'][:20]\n",
    "labels = df_pesopais['codpais'][:20]\n",
    "plt.bar(range(len(x)), x) #, labels)\n",
    "plt.xticks(range(len(x)), labels)\n",
    "plt.show()"
   ]
  },
  {
   "cell_type": "code",
   "execution_count": 49,
   "metadata": {},
   "outputs": [],
   "source": [
    "df_pesoncm = df_ncm.groupby(\n",
    "            ['COD CAPIT NCM', 'CAPITULO NCM'], as_index=False\n",
    "        )['PESO LIQ MERC IMP POR'].sum()\n",
    "df_pesoncm.columns = ['codcapncm', 'CapituloNCM', 'pesototal']"
   ]
  },
  {
   "cell_type": "code",
   "execution_count": 50,
   "metadata": {},
   "outputs": [
    {
     "data": {
      "text/html": [
       "<div>\n",
       "<style scoped>\n",
       "    .dataframe tbody tr th:only-of-type {\n",
       "        vertical-align: middle;\n",
       "    }\n",
       "\n",
       "    .dataframe tbody tr th {\n",
       "        vertical-align: top;\n",
       "    }\n",
       "\n",
       "    .dataframe thead th {\n",
       "        text-align: right;\n",
       "    }\n",
       "</style>\n",
       "<table border=\"1\" class=\"dataframe\">\n",
       "  <thead>\n",
       "    <tr style=\"text-align: right;\">\n",
       "      <th></th>\n",
       "      <th>codcapncm</th>\n",
       "      <th>CapituloNCM</th>\n",
       "      <th>pesototal</th>\n",
       "    </tr>\n",
       "  </thead>\n",
       "  <tbody>\n",
       "    <tr>\n",
       "      <th>0</th>\n",
       "      <td>1</td>\n",
       "      <td>Animais vivos</td>\n",
       "      <td>0.00</td>\n",
       "    </tr>\n",
       "    <tr>\n",
       "      <th>1</th>\n",
       "      <td>2</td>\n",
       "      <td>Carnes e miudezas, comestíveis</td>\n",
       "      <td>0.00</td>\n",
       "    </tr>\n",
       "    <tr>\n",
       "      <th>2</th>\n",
       "      <td>3</td>\n",
       "      <td>Peixes e crustáceos, moluscos e outros inverte...</td>\n",
       "      <td>0.00</td>\n",
       "    </tr>\n",
       "    <tr>\n",
       "      <th>3</th>\n",
       "      <td>4</td>\n",
       "      <td>Leite e lacticínios; ovos de aves; mel natural...</td>\n",
       "      <td>0.00</td>\n",
       "    </tr>\n",
       "    <tr>\n",
       "      <th>4</th>\n",
       "      <td>5</td>\n",
       "      <td>Outros produtos de origem animal, não especifi...</td>\n",
       "      <td>0.00</td>\n",
       "    </tr>\n",
       "  </tbody>\n",
       "</table>\n",
       "</div>"
      ],
      "text/plain": [
       "   codcapncm                                        CapituloNCM  pesototal\n",
       "0          1                                      Animais vivos       0.00\n",
       "1          2                     Carnes e miudezas, comestíveis       0.00\n",
       "2          3  Peixes e crustáceos, moluscos e outros inverte...       0.00\n",
       "3          4  Leite e lacticínios; ovos de aves; mel natural...       0.00\n",
       "4          5  Outros produtos de origem animal, não especifi...       0.00"
      ]
     },
     "execution_count": 50,
     "metadata": {},
     "output_type": "execute_result"
    }
   ],
   "source": [
    "df_pesoncm.head()"
   ]
  },
  {
   "cell_type": "code",
   "execution_count": 51,
   "metadata": {},
   "outputs": [
    {
     "data": {
      "image/png": "[encoded data removed]",
      "text/plain": [
       "<matplotlib.figure.Figure at 0x7f6ac9df25f8>"
      ]
     },
     "metadata": {},
     "output_type": "display_data"
    }
   ],
   "source": [
    "%matplotlib inline\n",
    "plt.figure(figsize=(20,5))\n",
    "df_pesoncm = df_pesoncm.sort_values(by='pesototal', ascending=False)\n",
    "x = df_pesoncm['pesototal'][:30]\n",
    "labels = df_pesoncm['codcapncm'][:30]\n",
    "plt.bar(range(len(x)), x) #, labels)\n",
    "plt.xticks(range(len(x)), labels)\n",
    "plt.show()"
   ]
  },
  {
   "cell_type": "code",
   "execution_count": 52,
   "metadata": {},
   "outputs": [],
   "source": [
    "import MySQLdb\n",
    "db = MySQLdb.connect('localhost', 'root', 'ivan1234')\n",
    "\n",
    "# Laudos: qtde por país\n",
    "sql = 'SELECT origemid as codpais, COUNT(*) as total ' + \\\n",
    "    'FROM LAUDOS.itenssat ' + \\\n",
    "    'GROUP BY origemid ' + \\\n",
    "    'ORDER BY total DESC; '\n",
    "df_qtdelaudospais = pd.read_sql(sql, db)\n",
    "df_pais_x_peso = df_qtdelaudospais.merge(df_pesopais, on='codpais')"
   ]
  },
  {
   "cell_type": "code",
   "execution_count": 38,
   "metadata": {},
   "outputs": [
    {
     "data": {
      "text/html": [
       "<div>\n",
       "<style scoped>\n",
       "    .dataframe tbody tr th:only-of-type {\n",
       "        vertical-align: middle;\n",
       "    }\n",
       "\n",
       "    .dataframe tbody tr th {\n",
       "        vertical-align: top;\n",
       "    }\n",
       "\n",
       "    .dataframe thead th {\n",
       "        text-align: right;\n",
       "    }\n",
       "</style>\n",
       "<table border=\"1\" class=\"dataframe\">\n",
       "  <thead>\n",
       "    <tr style=\"text-align: right;\">\n",
       "      <th></th>\n",
       "      <th>codpais</th>\n",
       "      <th>total</th>\n",
       "      <th>PaisOrigem</th>\n",
       "      <th>pesototal</th>\n",
       "    </tr>\n",
       "  </thead>\n",
       "  <tbody>\n",
       "    <tr>\n",
       "      <th>0</th>\n",
       "      <td>249.00</td>\n",
       "      <td>154</td>\n",
       "      <td>Estados Unidos</td>\n",
       "      <td>0.22</td>\n",
       "    </tr>\n",
       "    <tr>\n",
       "      <th>22</th>\n",
       "      <td>63.00</td>\n",
       "      <td>2</td>\n",
       "      <td>Argentina</td>\n",
       "      <td>0.07</td>\n",
       "    </tr>\n",
       "    <tr>\n",
       "      <th>39</th>\n",
       "      <td>160.00</td>\n",
       "      <td>1</td>\n",
       "      <td>China</td>\n",
       "      <td>0.06</td>\n",
       "    </tr>\n",
       "    <tr>\n",
       "      <th>6</th>\n",
       "      <td>97.00</td>\n",
       "      <td>12</td>\n",
       "      <td>Bolívia</td>\n",
       "      <td>0.05</td>\n",
       "    </tr>\n",
       "    <tr>\n",
       "      <th>38</th>\n",
       "      <td>169.00</td>\n",
       "      <td>1</td>\n",
       "      <td>Colômbia</td>\n",
       "      <td>0.05</td>\n",
       "    </tr>\n",
       "    <tr>\n",
       "      <th>31</th>\n",
       "      <td>69.00</td>\n",
       "      <td>1</td>\n",
       "      <td>Austrália</td>\n",
       "      <td>0.04</td>\n",
       "    </tr>\n",
       "    <tr>\n",
       "      <th>21</th>\n",
       "      <td>59.00</td>\n",
       "      <td>2</td>\n",
       "      <td>Argélia</td>\n",
       "      <td>0.03</td>\n",
       "    </tr>\n",
       "    <tr>\n",
       "      <th>5</th>\n",
       "      <td>53.00</td>\n",
       "      <td>42</td>\n",
       "      <td>Arábia Saudita</td>\n",
       "      <td>0.03</td>\n",
       "    </tr>\n",
       "    <tr>\n",
       "      <th>3</th>\n",
       "      <td>149.00</td>\n",
       "      <td>51</td>\n",
       "      <td>Canadá</td>\n",
       "      <td>0.03</td>\n",
       "    </tr>\n",
       "    <tr>\n",
       "      <th>7</th>\n",
       "      <td>158.00</td>\n",
       "      <td>11</td>\n",
       "      <td>Chile</td>\n",
       "      <td>0.02</td>\n",
       "    </tr>\n",
       "  </tbody>\n",
       "</table>\n",
       "</div>"
      ],
      "text/plain": [
       "    codpais  total      PaisOrigem  pesototal\n",
       "0    249.00    154  Estados Unidos       0.22\n",
       "22    63.00      2       Argentina       0.07\n",
       "39   160.00      1           China       0.06\n",
       "6     97.00     12         Bolívia       0.05\n",
       "38   169.00      1        Colômbia       0.05\n",
       "31    69.00      1       Austrália       0.04\n",
       "21    59.00      2         Argélia       0.03\n",
       "5     53.00     42  Arábia Saudita       0.03\n",
       "3    149.00     51          Canadá       0.03\n",
       "7    158.00     11           Chile       0.02"
      ]
     },
     "execution_count": 38,
     "metadata": {},
     "output_type": "execute_result"
    }
   ],
   "source": [
    "df_pais_x_peso = df_pais_x_peso.sort_values(by='pesototal', ascending=False)\n",
    "df_pais_x_peso.head(10)"
   ]
  },
  {
   "cell_type": "code",
   "execution_count": 17,
   "metadata": {},
   "outputs": [
    {
     "data": {
      "text/html": [
       "<div>\n",
       "<style scoped>\n",
       "    .dataframe tbody tr th:only-of-type {\n",
       "        vertical-align: middle;\n",
       "    }\n",
       "\n",
       "    .dataframe tbody tr th {\n",
       "        vertical-align: top;\n",
       "    }\n",
       "\n",
       "    .dataframe thead th {\n",
       "        text-align: right;\n",
       "    }\n",
       "</style>\n",
       "<table border=\"1\" class=\"dataframe\">\n",
       "  <thead>\n",
       "    <tr style=\"text-align: right;\">\n",
       "      <th></th>\n",
       "      <th>codpais</th>\n",
       "      <th>total</th>\n",
       "    </tr>\n",
       "  </thead>\n",
       "  <tbody>\n",
       "    <tr>\n",
       "      <th>0</th>\n",
       "      <td>95.00</td>\n",
       "      <td>2523</td>\n",
       "    </tr>\n",
       "    <tr>\n",
       "      <th>1</th>\n",
       "      <td>21.00</td>\n",
       "      <td>1651</td>\n",
       "    </tr>\n",
       "    <tr>\n",
       "      <th>2</th>\n",
       "      <td>41.00</td>\n",
       "      <td>1174</td>\n",
       "    </tr>\n",
       "    <tr>\n",
       "      <th>3</th>\n",
       "      <td>43.00</td>\n",
       "      <td>764</td>\n",
       "    </tr>\n",
       "    <tr>\n",
       "      <th>4</th>\n",
       "      <td>138.00</td>\n",
       "      <td>421</td>\n",
       "    </tr>\n",
       "  </tbody>\n",
       "</table>\n",
       "</div>"
      ],
      "text/plain": [
       "   codpais  total\n",
       "0    95.00   2523\n",
       "1    21.00   1651\n",
       "2    41.00   1174\n",
       "3    43.00    764\n",
       "4   138.00    421"
      ]
     },
     "execution_count": 17,
     "metadata": {},
     "output_type": "execute_result"
    }
   ],
   "source": [
    "df_qtdelaudospais.head()"
   ]
  },
  {
   "cell_type": "code",
   "execution_count": 55,
   "metadata": {},
   "outputs": [],
   "source": [
    "df_pesoncmpais = df_ncm.groupby(\n",
    "            ['COD PAIS ORIG DEST',\n",
    "             'PAIS ORIGEM DESTINO',\n",
    "             'COD CAPIT NCM',\n",
    "             'CAPITULO NCM'], as_index=False\n",
    "        )['PESO LIQ MERC IMP'].sum()\n",
    "df_pesoncmpais.columns = ['codpais', 'PaisOrigem', 'codcapncm', 'CapituloNCM', 'pesototal']\n",
    "df_pesoncmpais = df_pesoncmpais.sort_values(by='pesototal', ascending=False)\n"
   ]
  },
  {
   "cell_type": "code",
   "execution_count": 56,
   "metadata": {},
   "outputs": [
    {
     "data": {
      "text/html": [
       "<div>\n",
       "<style scoped>\n",
       "    .dataframe tbody tr th:only-of-type {\n",
       "        vertical-align: middle;\n",
       "    }\n",
       "\n",
       "    .dataframe tbody tr th {\n",
       "        vertical-align: top;\n",
       "    }\n",
       "\n",
       "    .dataframe thead th {\n",
       "        text-align: right;\n",
       "    }\n",
       "</style>\n",
       "<table border=\"1\" class=\"dataframe\">\n",
       "  <thead>\n",
       "    <tr style=\"text-align: right;\">\n",
       "      <th></th>\n",
       "      <th>codpais</th>\n",
       "      <th>PaisOrigem</th>\n",
       "      <th>codcapncm</th>\n",
       "      <th>CapituloNCM</th>\n",
       "      <th>pesototal</th>\n",
       "    </tr>\n",
       "  </thead>\n",
       "  <tbody>\n",
       "    <tr>\n",
       "      <th>757</th>\n",
       "      <td>249.00</td>\n",
       "      <td>Estados Unidos</td>\n",
       "      <td>27</td>\n",
       "      <td>Combust., óleos minerais, mat. betum., ceras</td>\n",
       "      <td>53052104119.76</td>\n",
       "    </tr>\n",
       "    <tr>\n",
       "      <th>235</th>\n",
       "      <td>97.00</td>\n",
       "      <td>Bolívia</td>\n",
       "      <td>27</td>\n",
       "      <td>Combust., óleos minerais, mat. betum., ceras</td>\n",
       "      <td>17590805829.73</td>\n",
       "    </tr>\n",
       "    <tr>\n",
       "      <th>82</th>\n",
       "      <td>63.00</td>\n",
       "      <td>Argentina</td>\n",
       "      <td>10</td>\n",
       "      <td>Cereais</td>\n",
       "      <td>16419840943.82</td>\n",
       "    </tr>\n",
       "    <tr>\n",
       "      <th>514</th>\n",
       "      <td>169.00</td>\n",
       "      <td>Colômbia</td>\n",
       "      <td>27</td>\n",
       "      <td>Combust., óleos minerais, mat. betum., ceras</td>\n",
       "      <td>16411744661.73</td>\n",
       "    </tr>\n",
       "    <tr>\n",
       "      <th>133</th>\n",
       "      <td>69.00</td>\n",
       "      <td>Austrália</td>\n",
       "      <td>27</td>\n",
       "      <td>Combust., óleos minerais, mat. betum., ceras</td>\n",
       "      <td>14973757606.72</td>\n",
       "    </tr>\n",
       "  </tbody>\n",
       "</table>\n",
       "</div>"
      ],
      "text/plain": [
       "     codpais      PaisOrigem  codcapncm  \\\n",
       "757   249.00  Estados Unidos         27   \n",
       "235    97.00         Bolívia         27   \n",
       "82     63.00       Argentina         10   \n",
       "514   169.00        Colômbia         27   \n",
       "133    69.00       Austrália         27   \n",
       "\n",
       "                                      CapituloNCM      pesototal  \n",
       "757  Combust., óleos minerais, mat. betum., ceras 53052104119.76  \n",
       "235  Combust., óleos minerais, mat. betum., ceras 17590805829.73  \n",
       "82                                        Cereais 16419840943.82  \n",
       "514  Combust., óleos minerais, mat. betum., ceras 16411744661.73  \n",
       "133  Combust., óleos minerais, mat. betum., ceras 14973757606.72  "
      ]
     },
     "execution_count": 56,
     "metadata": {},
     "output_type": "execute_result"
    }
   ],
   "source": [
    "df_pesoncmpais.head()"
   ]
  },
  {
   "cell_type": "code",
   "execution_count": null,
   "metadata": {},
   "outputs": [],
   "source": []
  }
 ],
 "metadata": {
  "kernelspec": {
   "display_name": "Python 3",
   "language": "python",
   "name": "python3"
  },
  "language_info": {
   "codemirror_mode": {
    "name": "ipython",
    "version": 3
   },
   "file_extension": ".py",
   "mimetype": "text/x-python",
   "name": "python",
   "nbconvert_exporter": "python",
   "pygments_lexer": "ipython3",
   "version": "3.6.4"
  }
 },
 "nbformat": 4,
 "nbformat_minor": 2
}
